{
 "cells": [
  {
   "cell_type": "code",
   "execution_count": null,
   "id": "006e16fa-6f06-4cd5-8608-44da557ac8ec",
   "metadata": {},
   "outputs": [],
   "source": [
    "celula"
   ]
  },
  {
   "cell_type": "code",
   "execution_count": null,
   "id": "187430bd-6721-43c5-b30a-fc39ef9bbbe2",
   "metadata": {},
   "outputs": [],
   "source": [
    "# teste\n",
    "\n",
    "é o dog\n",
    "\n",
    "\n",
    "print(\"hello friend\")"
   ]
  },
  {
   "cell_type": "code",
   "execution_count": null,
   "id": "df415f80-0132-48d6-b99b-b33ca251181f",
   "metadata": {},
   "outputs": [],
   "source": [
    "print(\"hello friend\")"
   ]
  },
  {
   "cell_type": "code",
   "execution_count": null,
   "id": "082254ee-f9f1-475a-9ae6-df47a4a62258",
   "metadata": {},
   "outputs": [],
   "source": [
    "x = 2 "
   ]
  },
  {
   "cell_type": "code",
   "execution_count": null,
   "id": "a065d3d3-15a6-4f80-96f3-b62bce51c66c",
   "metadata": {},
   "outputs": [],
   "source": [
    "y = 5"
   ]
  },
  {
   "cell_type": "code",
   "execution_count": null,
   "id": "1581957e-ac36-4141-8170-454540995c55",
   "metadata": {},
   "outputs": [],
   "source": [
    "x + y"
   ]
  },
  {
   "cell_type": "code",
   "execution_count": null,
   "id": "559cc464-310d-4d45-a27c-94909af666fe",
   "metadata": {},
   "outputs": [],
   "source": [
    "import pandas as pd\n",
    "\n",
    "df = pd.DataFrame({'A': [1, 2, 3], 'B': [6, 7, 8]})\n",
    "df"
   ]
  },
  {
   "cell_type": "code",
   "execution_count": null,
   "id": "b70b6373-a9ee-41ff-a289-a8e22a93677e",
   "metadata": {},
   "outputs": [],
   "source": [
    "2 * 2"
   ]
  },
  {
   "cell_type": "code",
   "execution_count": null,
   "id": "9dacfda4-4799-42cb-81f0-27bfc0ea3f9a",
   "metadata": {},
   "outputs": [],
   "source": [
    "# Variáveis"
   ]
  },
  {
   "cell_type": "code",
   "execution_count": null,
   "id": "673da2db-378a-41d2-a3df-c56ab380e91a",
   "metadata": {},
   "outputs": [],
   "source": [
    "a = 5"
   ]
  },
  {
   "cell_type": "code",
   "execution_count": null,
   "id": "3cf97836-0be3-481b-b9aa-3c1fd2841091",
   "metadata": {},
   "outputs": [],
   "source": [
    "a"
   ]
  },
  {
   "cell_type": "code",
   "execution_count": null,
   "id": "74b756d6-ac10-4c0e-aab9-0aed8f91178f",
   "metadata": {},
   "outputs": [],
   "source": [
    "teste = 1"
   ]
  },
  {
   "cell_type": "code",
   "execution_count": null,
   "id": "88384b97-9b40-42c4-b8f7-cf6971f1d09d",
   "metadata": {},
   "outputs": [],
   "source": [
    "teste"
   ]
  },
  {
   "cell_type": "code",
   "execution_count": null,
   "id": "f22f2dbd-954b-4991-a793-3c07cfc19dcc",
   "metadata": {},
   "outputs": [],
   "source": [
    "a"
   ]
  },
  {
   "cell_type": "code",
   "execution_count": null,
   "id": "1ff53e3e-65b6-426e-b858-702ff2698826",
   "metadata": {},
   "outputs": [],
   "source": [
    "teste + a"
   ]
  },
  {
   "cell_type": "code",
   "execution_count": null,
   "id": "1592cc54-3908-4ef0-98ab-972ccf896ffe",
   "metadata": {},
   "outputs": [],
   "source": [
    "teste2 = a + teste\n",
    "teste2"
   ]
  },
  {
   "cell_type": "code",
   "execution_count": null,
   "id": "5e07f964-cf60-46b6-a735-1c7afa749e20",
   "metadata": {},
   "outputs": [],
   "source": [
    "a = a ** 2\n",
    "a"
   ]
  },
  {
   "cell_type": "code",
   "execution_count": null,
   "id": "2170dd93-a80a-4561-bbd4-92ba3acec32e",
   "metadata": {},
   "outputs": [],
   "source": [
    "## Strings"
   ]
  },
  {
   "cell_type": "code",
   "execution_count": 1,
   "id": "af646a7b-d6c3-467a-9274-24f5fbba5f8e",
   "metadata": {},
   "outputs": [],
   "source": [
    "string = 'hello'"
   ]
  },
  {
   "cell_type": "code",
   "execution_count": 2,
   "id": "f6727a3c-f7ea-4793-98c6-2556e35657fe",
   "metadata": {},
   "outputs": [
    {
     "data": {
      "text/plain": [
       "'hello'"
      ]
     },
     "execution_count": 2,
     "metadata": {},
     "output_type": "execute_result"
    }
   ],
   "source": [
    "string"
   ]
  },
  {
   "cell_type": "code",
   "execution_count": 3,
   "id": "5009d579-0f17-47ca-8dfd-fe5edddbe6b1",
   "metadata": {},
   "outputs": [],
   "source": [
    "string2 = 'isso é uma string \"aspas\" string'"
   ]
  },
  {
   "cell_type": "code",
   "execution_count": 4,
   "id": "53753a8c-575f-4a3b-8ddd-76d735f75527",
   "metadata": {},
   "outputs": [
    {
     "data": {
      "text/plain": [
       "'isso é uma string \"aspas\" string'"
      ]
     },
     "execution_count": 4,
     "metadata": {},
     "output_type": "execute_result"
    }
   ],
   "source": [
    "string2"
   ]
  },
  {
   "cell_type": "code",
   "execution_count": 5,
   "id": "847d447c-3193-42d8-a095-9863ed592eb3",
   "metadata": {},
   "outputs": [
    {
     "name": "stdout",
     "output_type": "stream",
     "text": [
      "isso é uma string \"aspas\" string\n"
     ]
    }
   ],
   "source": [
    "print(string2)"
   ]
  },
  {
   "cell_type": "code",
   "execution_count": 6,
   "id": "56763a5e-8c36-4248-b73d-2c9474fddc28",
   "metadata": {},
   "outputs": [
    {
     "data": {
      "text/plain": [
       "32"
      ]
     },
     "execution_count": 6,
     "metadata": {},
     "output_type": "execute_result"
    }
   ],
   "source": [
    "len(string2)"
   ]
  },
  {
   "cell_type": "code",
   "execution_count": 7,
   "id": "93563c24-52e3-44ca-9e30-a49fcba0fb4c",
   "metadata": {},
   "outputs": [
    {
     "data": {
      "text/plain": [
       "'isso é uma string \"aspas\" string aaaaaaaaaa hello'"
      ]
     },
     "execution_count": 7,
     "metadata": {},
     "output_type": "execute_result"
    }
   ],
   "source": [
    "string2 + \" aaaaaaaaaa \" +string"
   ]
  },
  {
   "cell_type": "code",
   "execution_count": 8,
   "id": "4f5d56cd-ebe5-4cbe-822d-658aba09506b",
   "metadata": {},
   "outputs": [
    {
     "data": {
      "text/plain": [
       "'isso é uma string \"aspas\" string'"
      ]
     },
     "execution_count": 8,
     "metadata": {},
     "output_type": "execute_result"
    }
   ],
   "source": [
    "string2[:]"
   ]
  },
  {
   "cell_type": "code",
   "execution_count": 9,
   "id": "ff6cc0d5-6a8e-4284-b382-c78bd74ddc79",
   "metadata": {},
   "outputs": [
    {
     "data": {
      "text/plain": [
       "'sso'"
      ]
     },
     "execution_count": 9,
     "metadata": {},
     "output_type": "execute_result"
    }
   ],
   "source": [
    "string[1:4]"
   ]
  },
  {
   "cell_type": "code",
   "execution_count": 11,
   "id": "85aaf4c5-f9f7-419c-9305-b6d58d93cacc",
   "metadata": {},
   "outputs": [
    {
     "data": {
      "text/plain": [
       "'h'"
      ]
     },
     "execution_count": 11,
     "metadata": {},
     "output_type": "execute_result"
    }
   ],
   "source": [
    "string[-5]"
   ]
  },
  {
   "cell_type": "code",
   "execution_count": 12,
   "id": "046b07a7-81b3-4c34-aadb-9e45fbc0c69f",
   "metadata": {},
   "outputs": [
    {
     "data": {
      "text/plain": [
       "'o'"
      ]
     },
     "execution_count": 12,
     "metadata": {},
     "output_type": "execute_result"
    }
   ],
   "source": [
    "string[-1]"
   ]
  },
  {
   "cell_type": "code",
   "execution_count": 13,
   "id": "7f3a4960-3c5d-4703-8b3f-f37e88d45f71",
   "metadata": {},
   "outputs": [
    {
     "data": {
      "text/plain": [
       "'hell'"
      ]
     },
     "execution_count": 13,
     "metadata": {},
     "output_type": "execute_result"
    }
   ],
   "source": [
    "string[:-1]"
   ]
  },
  {
   "cell_type": "code",
   "execution_count": 15,
   "id": "e4adfd48-f90a-44b0-b75c-efc8b32e53c7",
   "metadata": {},
   "outputs": [
    {
     "data": {
      "text/plain": [
       "'olleh'"
      ]
     },
     "execution_count": 15,
     "metadata": {},
     "output_type": "execute_result"
    }
   ],
   "source": [
    "string[::-1]"
   ]
  },
  {
   "cell_type": "code",
   "execution_count": 18,
   "id": "6acb6da3-fe45-49ce-b2c9-48f17299c5dd",
   "metadata": {},
   "outputs": [],
   "source": [
    "string = \"hello\""
   ]
  },
  {
   "cell_type": "code",
   "execution_count": 20,
   "id": "06307b83-7fb5-43ef-b573-6e628cd50cea",
   "metadata": {},
   "outputs": [
    {
     "ename": "TypeError",
     "evalue": "'str' object does not support item assignment",
     "output_type": "error",
     "traceback": [
      "\u001b[1;31m---------------------------------------------------------------------------\u001b[0m",
      "\u001b[1;31mTypeError\u001b[0m                                 Traceback (most recent call last)",
      "Cell \u001b[1;32mIn[20], line 1\u001b[0m\n\u001b[1;32m----> 1\u001b[0m \u001b[43mstring\u001b[49m\u001b[43m[\u001b[49m\u001b[38;5;241;43m0\u001b[39;49m\u001b[43m]\u001b[49m \u001b[38;5;241m=\u001b[39m \u001b[38;5;124m\"\u001b[39m\u001b[38;5;124ma\u001b[39m\u001b[38;5;124m\"\u001b[39m\n",
      "\u001b[1;31mTypeError\u001b[0m: 'str' object does not support item assignment"
     ]
    }
   ],
   "source": [
    "string[0] = \"a\""
   ]
  },
  {
   "cell_type": "code",
   "execution_count": 21,
   "id": "18330653-3976-469c-beb9-91a310525d7e",
   "metadata": {},
   "outputs": [
    {
     "data": {
      "text/plain": [
       "'aaaaaaaaaa'"
      ]
     },
     "execution_count": 21,
     "metadata": {},
     "output_type": "execute_result"
    }
   ],
   "source": [
    "\"a\" * 10"
   ]
  },
  {
   "cell_type": "code",
   "execution_count": 22,
   "id": "791984ab-4e97-4efa-9f88-fad1c269e802",
   "metadata": {},
   "outputs": [
    {
     "data": {
      "text/plain": [
       "str"
      ]
     },
     "execution_count": 22,
     "metadata": {},
     "output_type": "execute_result"
    }
   ],
   "source": [
    "type(\"a\")"
   ]
  },
  {
   "cell_type": "code",
   "execution_count": 24,
   "id": "247437a9-1e7e-4c30-bec4-17c668cabf13",
   "metadata": {},
   "outputs": [
    {
     "data": {
      "text/plain": [
       "'hello'"
      ]
     },
     "execution_count": 24,
     "metadata": {},
     "output_type": "execute_result"
    }
   ],
   "source": [
    "\"Hello\".lower()"
   ]
  },
  {
   "cell_type": "code",
   "execution_count": 25,
   "id": "4cead065-5111-44f4-9f46-194e9f611481",
   "metadata": {},
   "outputs": [
    {
     "data": {
      "text/plain": [
       "'HELLO'"
      ]
     },
     "execution_count": 25,
     "metadata": {},
     "output_type": "execute_result"
    }
   ],
   "source": [
    "\"Hello\".upper()"
   ]
  },
  {
   "cell_type": "code",
   "execution_count": 29,
   "id": "72f38808-41e7-42f5-a5bc-1c87c97104c4",
   "metadata": {},
   "outputs": [
    {
     "data": {
      "text/plain": [
       "['Hello', 'o']"
      ]
     },
     "execution_count": 29,
     "metadata": {},
     "output_type": "execute_result"
    }
   ],
   "source": [
    "\"Helloto\".split(\"t\")"
   ]
  },
  {
   "cell_type": "code",
   "execution_count": 30,
   "id": "499c7432-20be-4250-9020-75bf02fd5194",
   "metadata": {},
   "outputs": [
    {
     "data": {
      "text/plain": [
       "'idade da pessoa é: 10'"
      ]
     },
     "execution_count": 30,
     "metadata": {},
     "output_type": "execute_result"
    }
   ],
   "source": [
    "idade = 10\n",
    "\"idade da pessoa é: {}\".format(idade)"
   ]
  },
  {
   "cell_type": "code",
   "execution_count": 34,
   "id": "9a4ffb6d-2759-4862-8798-49e2a022e614",
   "metadata": {},
   "outputs": [
    {
     "data": {
      "text/plain": [
       "'idade da pessoa é: teste e o nome é: 10'"
      ]
     },
     "execution_count": 34,
     "metadata": {},
     "output_type": "execute_result"
    }
   ],
   "source": [
    "idade = 10\n",
    "nome = \"teste\"\n",
    "\"idade da pessoa é: {a} e o nome é: {b}\".format(b=idade, a=nome)"
   ]
  },
  {
   "cell_type": "code",
   "execution_count": null,
   "id": "581ab4e1-dd86-40d7-a36e-538d7bb47e3d",
   "metadata": {},
   "outputs": [],
   "source": []
  }
 ],
 "metadata": {
  "kernelspec": {
   "display_name": "Python 3 (ipykernel)",
   "language": "python",
   "name": "python3"
  },
  "language_info": {
   "codemirror_mode": {
    "name": "ipython",
    "version": 3
   },
   "file_extension": ".py",
   "mimetype": "text/x-python",
   "name": "python",
   "nbconvert_exporter": "python",
   "pygments_lexer": "ipython3",
   "version": "3.12.6"
  }
 },
 "nbformat": 4,
 "nbformat_minor": 5
}
