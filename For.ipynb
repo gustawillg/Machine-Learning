{
 "cells": [
  {
   "cell_type": "markdown",
   "metadata": {},
   "source": [
    "For"
   ]
  },
  {
   "cell_type": "code",
   "execution_count": 11,
   "metadata": {},
   "outputs": [
    {
     "data": {
      "text/plain": [
       "[0, 1, 2, 3, 4, 5, 6, 7, 8, 9]"
      ]
     },
     "execution_count": 11,
     "metadata": {},
     "output_type": "execute_result"
    }
   ],
   "source": [
    "list(range(10))"
   ]
  },
  {
   "cell_type": "code",
   "execution_count": 13,
   "metadata": {},
   "outputs": [
    {
     "name": "stdout",
     "output_type": "stream",
     "text": [
      "teste\n",
      "0\n",
      "teste\n",
      "1\n",
      "teste\n",
      "2\n",
      "teste\n",
      "3\n",
      "teste\n",
      "4\n",
      "teste\n",
      "5\n",
      "teste\n",
      "6\n",
      "teste\n",
      "7\n",
      "teste\n",
      "8\n",
      "teste\n",
      "9\n"
     ]
    }
   ],
   "source": [
    "for i in range(10):\n",
    "    print(\"teste\")\n",
    "    print(i)\n"
   ]
  },
  {
   "cell_type": "code",
   "execution_count": 15,
   "metadata": {},
   "outputs": [
    {
     "name": "stdout",
     "output_type": "stream",
     "text": [
      "a\n",
      "b\n",
      "c\n"
     ]
    }
   ],
   "source": [
    "l = [\"a\", \"b\", \"c\"]\n",
    "for i in l:\n",
    "    print(i)\n"
   ]
  },
  {
   "cell_type": "code",
   "execution_count": 16,
   "metadata": {},
   "outputs": [
    {
     "name": "stdout",
     "output_type": "stream",
     "text": [
      "t\n",
      "e\n",
      "s\n",
      "t\n",
      "e\n"
     ]
    }
   ],
   "source": [
    "l = \"teste\"\n",
    "for i in l:\n",
    "    print(i)\n"
   ]
  },
  {
   "cell_type": "code",
   "execution_count": 17,
   "metadata": {},
   "outputs": [
    {
     "data": {
      "text/plain": [
       "1"
      ]
     },
     "execution_count": 17,
     "metadata": {},
     "output_type": "execute_result"
    }
   ],
   "source": [
    "5 % 2"
   ]
  },
  {
   "cell_type": "code",
   "execution_count": 19,
   "metadata": {},
   "outputs": [
    {
     "name": "stdout",
     "output_type": "stream",
     "text": [
      "0 é part\n",
      "2 é part\n",
      "4 é part\n",
      "6 é part\n",
      "8 é part\n",
      "10 é part\n",
      "12 é part\n",
      "14 é part\n",
      "16 é part\n",
      "18 é part\n",
      "20 é part\n",
      "22 é part\n",
      "24 é part\n",
      "26 é part\n",
      "28 é part\n",
      "30 é part\n",
      "32 é part\n",
      "34 é part\n",
      "36 é part\n",
      "38 é part\n",
      "40 é part\n",
      "42 é part\n",
      "44 é part\n",
      "46 é part\n",
      "48 é part\n",
      "50 é part\n",
      "52 é part\n",
      "54 é part\n",
      "56 é part\n",
      "58 é part\n",
      "60 é part\n",
      "62 é part\n",
      "64 é part\n",
      "66 é part\n",
      "68 é part\n",
      "70 é part\n",
      "72 é part\n",
      "74 é part\n",
      "76 é part\n",
      "78 é part\n",
      "80 é part\n",
      "82 é part\n",
      "84 é part\n",
      "86 é part\n",
      "88 é part\n",
      "90 é part\n",
      "92 é part\n",
      "94 é part\n",
      "96 é part\n",
      "98 é part\n"
     ]
    }
   ],
   "source": [
    "for i in range(100):\n",
    "    if i % 2 == 0:\n",
    "        print(\"{} é part\".format(i))\n"
   ]
  },
  {
   "cell_type": "code",
   "execution_count": null,
   "metadata": {},
   "outputs": [],
   "source": []
  }
 ],
 "metadata": {
  "kernelspec": {
   "display_name": "Python 3 (ipykernel)",
   "language": "python",
   "name": "python3"
  }
 },
 "nbformat": 4,
 "nbformat_minor": 2
}
