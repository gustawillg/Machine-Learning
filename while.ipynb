{
 "cells": [
  {
   "cell_type": "markdown",
   "metadata": {},
   "source": [
    "While"
   ]
  },
  {
   "cell_type": "code",
   "execution_count": 21,
   "metadata": {},
   "outputs": [
    {
     "name": "stdout",
     "output_type": "stream",
     "text": [
      "o valor de x é 0\n",
      "o valor de x é 1\n",
      "o valor de x é 2\n",
      "o valor de x é 3\n",
      "o valor de x é 4\n",
      "o valor de x é 5\n",
      "o valor de x é 6\n",
      "o valor de x é 7\n",
      "o valor de x é 8\n",
      "o valor de x é 9\n"
     ]
    }
   ],
   "source": [
    "x = 0\n",
    "\n",
    "while x < 10:\n",
    "    print(\"o valor de x é {}\".format(x))\n",
    "    x = x + 1 \n"
   ]
  },
  {
   "cell_type": "code",
   "execution_count": 23,
   "metadata": {},
   "outputs": [
    {
     "name": "stdout",
     "output_type": "stream",
     "text": [
      "o valor de x é: 0\n",
      "x ainda é menor que 10\n",
      "o valor de x é: 1\n",
      "x ainda é menor que 10\n",
      "o valor de x é: 2\n",
      "x ainda é menor que 10\n",
      "o valor de x é: 3\n",
      "x ainda é menor que 10\n",
      "o valor de x é: 4\n",
      "x ainda é menor que 10\n",
      "o valor de x é: 5\n",
      "x ainda é menor que 10\n",
      "o valor de x é: 6\n",
      "x ainda é menor que 10\n",
      "o valor de x é: 7\n",
      "x ainda é menor que 10\n",
      "o valor de x é: 8\n",
      "x ainda é menor que 10\n",
      "o valor de x é: 9\n",
      "x ainda é menor que 10\n",
      "cabou\n"
     ]
    }
   ],
   "source": [
    "x = 0 \n",
    "\n",
    "while x < 10:\n",
    "    print(\"o valor de x é: {}\".format(x))\n",
    "    print(\"x ainda é menor que 10\")\n",
    "    x += 1 # x = x + 1\n",
    "else: \n",
    "    print(\"cabou\")"
   ]
  },
  {
   "cell_type": "code",
   "execution_count": 26,
   "metadata": {},
   "outputs": [
    {
     "name": "stdout",
     "output_type": "stream",
     "text": [
      "o valor de x é: 0\n",
      "qubra\n"
     ]
    }
   ],
   "source": [
    "x = 0 \n",
    "\n",
    "while x < 10:\n",
    "    print(\"o valor de x é: {}\".format(x))\n",
    "    x += 1 \n",
    "    break\n",
    "    print(\"x ainda é menor que 10\")\n",
    "\n",
    "print(\"qubra\")"
   ]
  },
  {
   "cell_type": "code",
   "execution_count": 27,
   "metadata": {},
   "outputs": [
    {
     "name": "stdout",
     "output_type": "stream",
     "text": [
      "1\n"
     ]
    }
   ],
   "source": [
    "print(x)"
   ]
  },
  {
   "cell_type": "code",
   "execution_count": null,
   "metadata": {},
   "outputs": [],
   "source": []
  }
 ],
 "metadata": {
  "kernelspec": {
   "display_name": "Python 3 (ipykernel)",
   "language": "python",
   "name": "python3"
  },
  "language_info": {
   "codemirror_mode": {
    "name": "ipython",
    "version": 3
   },
   "file_extension": ".py",
   "mimetype": "text/x-python",
   "name": "python",
   "nbconvert_exporter": "python",
   "pygments_lexer": "ipython3",
   "version": "3.12.6"
  }
 },
 "nbformat": 4,
 "nbformat_minor": 2
}
