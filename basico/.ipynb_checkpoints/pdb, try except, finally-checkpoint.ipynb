{
 "cells": [
  {
   "cell_type": "markdown",
   "id": "f4a87492-0e5f-4fe0-a3d4-a1e00a7befa4",
   "metadata": {},
   "source": [
    "Python debugger"
   ]
  },
  {
   "cell_type": "code",
   "execution_count": 1,
   "id": "689c905b-1a8a-4c35-a85b-6e41a444ddf2",
   "metadata": {},
   "outputs": [],
   "source": [
    "import pdb"
   ]
  },
  {
   "cell_type": "code",
   "execution_count": null,
   "id": "1b777eef-945c-4080-a75a-5667add49acd",
   "metadata": {},
   "outputs": [
    {
     "name": "stdout",
     "output_type": "stream",
     "text": [
      "5\n",
      "--Return--\n",
      "None\n",
      "> \u001b[1;32mc:\\users\\gusta\\appdata\\local\\temp\\ipykernel_23312\\2672249796.py\u001b[0m(7)\u001b[0;36m<module>\u001b[1;34m()\u001b[0m\n",
      "\n"
     ]
    },
    {
     "name": "stdin",
     "output_type": "stream",
     "text": [
      "ipdb>  teste\n"
     ]
    },
    {
     "name": "stdout",
     "output_type": "stream",
     "text": [
      "*** NameError: name 'teste' is not defined\n"
     ]
    },
    {
     "name": "stdin",
     "output_type": "stream",
     "text": [
      "ipdb>  a\n",
      "ipdb>  a\n",
      "ipdb>  a\n",
      "ipdb>  a\n",
      "ipdb>  a\n",
      "ipdb>  \n",
      "ipdb>  a\n",
      "ipdb>  1\n"
     ]
    }
   ],
   "source": [
    "x = [1, 2, 3]\n",
    "y = 2\n",
    "z = 3\n",
    "\n",
    "print(z + y)\n",
    "\n",
    "pdb.set_trace()\n",
    "print(x + y)"
   ]
  },
  {
   "cell_type": "markdown",
   "id": "32e207bb-1ac9-4c4f-9195-8ae39eb06059",
   "metadata": {},
   "source": [
    "try, except e finally"
   ]
  },
  {
   "cell_type": "code",
   "execution_count": 1,
   "id": "163a91d3-68d4-492e-9040-ee8185e52f81",
   "metadata": {},
   "outputs": [
    {
     "ename": "TypeError",
     "evalue": "can only concatenate list (not \"int\") to list",
     "output_type": "error",
     "traceback": [
      "\u001b[1;31m---------------------------------------------------------------------------\u001b[0m",
      "\u001b[1;31mTypeError\u001b[0m                                 Traceback (most recent call last)",
      "Cell \u001b[1;32mIn[1], line 3\u001b[0m\n\u001b[0;32m      1\u001b[0m a \u001b[38;5;241m=\u001b[39m [\u001b[38;5;241m1\u001b[39m, \u001b[38;5;241m2\u001b[39m, \u001b[38;5;241m3\u001b[39m]\n\u001b[0;32m      2\u001b[0m b \u001b[38;5;241m=\u001b[39m \u001b[38;5;241m1\u001b[39m\n\u001b[1;32m----> 3\u001b[0m \u001b[43ma\u001b[49m\u001b[43m \u001b[49m\u001b[38;5;241;43m+\u001b[39;49m\u001b[43m \u001b[49m\u001b[43mb\u001b[49m\n",
      "\u001b[1;31mTypeError\u001b[0m: can only concatenate list (not \"int\") to list"
     ]
    }
   ],
   "source": [
    "a = [1, 2, 3]\n",
    "b = 1\n",
    "a + b"
   ]
  },
  {
   "cell_type": "code",
   "execution_count": 4,
   "id": "1b2859be-663b-4f55-b704-a31e2fba87b8",
   "metadata": {},
   "outputs": [
    {
     "name": "stdout",
     "output_type": "stream",
     "text": [
      "teste\n"
     ]
    }
   ],
   "source": [
    "a = [1, 2, 3]\n",
    "b = 1\n",
    "\n",
    "try:\n",
    "   # a + b\n",
    "    a = 1\n",
    "    b = 1\n",
    "except Exception as e: \n",
    "    print(\"Erro: {}\".format(e))\n",
    "finally:\n",
    "    print(\"teste\")"
   ]
  },
  {
   "cell_type": "code",
   "execution_count": null,
   "id": "466aa351-654b-4dca-bd6f-af2914eb6d59",
   "metadata": {},
   "outputs": [],
   "source": []
  }
 ],
 "metadata": {
  "kernelspec": {
   "display_name": "Python 3 (ipykernel)",
   "language": "python",
   "name": "python3"
  },
  "language_info": {
   "codemirror_mode": {
    "name": "ipython",
    "version": 3
   },
   "file_extension": ".py",
   "mimetype": "text/x-python",
   "name": "python",
   "nbconvert_exporter": "python",
   "pygments_lexer": "ipython3",
   "version": "3.12.6"
  }
 },
 "nbformat": 4,
 "nbformat_minor": 5
}
