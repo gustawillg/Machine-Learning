{
 "cells": [
  {
   "cell_type": "markdown",
   "id": "c775ee1d-73e1-444a-8f4b-526575cac73a",
   "metadata": {},
   "source": [
    "Dicionários"
   ]
  },
  {
   "cell_type": "code",
   "execution_count": 1,
   "id": "5f1a76a8-79d9-4c0f-ba83-531d01cc563d",
   "metadata": {},
   "outputs": [],
   "source": [
    "dicionario = {\"nome\": \"paulo\", \"idade\":29, \"filhos\":[\"joao\", \"maria\"]}"
   ]
  },
  {
   "cell_type": "code",
   "execution_count": 2,
   "id": "b6e62645-821f-4235-81ce-99140d424e3e",
   "metadata": {},
   "outputs": [],
   "source": [
    "dicionario[\"idade\"] = 31"
   ]
  },
  {
   "cell_type": "code",
   "execution_count": 3,
   "id": "4b177ec5-8ce8-4db3-ba6a-0579fd2e917c",
   "metadata": {},
   "outputs": [
    {
     "data": {
      "text/plain": [
       "{'nome': 'paulo', 'idade': 31, 'filhos': ['joao', 'maria']}"
      ]
     },
     "execution_count": 3,
     "metadata": {},
     "output_type": "execute_result"
    }
   ],
   "source": [
    "dicionario"
   ]
  },
  {
   "cell_type": "code",
   "execution_count": 4,
   "id": "0ac69194-c37e-4786-96c4-e051d2b3dc8c",
   "metadata": {},
   "outputs": [],
   "source": [
    "dicionario[\"cidade\"] = \"sao paulo\""
   ]
  },
  {
   "cell_type": "code",
   "execution_count": 5,
   "id": "8f2bd2e0-ad3f-4f04-9ad2-7fe6d3ae3075",
   "metadata": {},
   "outputs": [
    {
     "data": {
      "text/plain": [
       "{'nome': 'paulo',\n",
       " 'idade': 31,\n",
       " 'filhos': ['joao', 'maria'],\n",
       " 'cidade': 'sao paulo'}"
      ]
     },
     "execution_count": 5,
     "metadata": {},
     "output_type": "execute_result"
    }
   ],
   "source": [
    "dicionario"
   ]
  },
  {
   "cell_type": "code",
   "execution_count": 6,
   "id": "d77fa7f2-9947-4240-9280-324f152c38a5",
   "metadata": {},
   "outputs": [],
   "source": [
    "dicionario[\"variavel aleatoria\"] = {\"a\": 1, \"b\": 2}"
   ]
  },
  {
   "cell_type": "code",
   "execution_count": 7,
   "id": "7eb725ae-1782-45d1-9825-a8839be78cfa",
   "metadata": {},
   "outputs": [
    {
     "data": {
      "text/plain": [
       "{'nome': 'paulo',\n",
       " 'idade': 31,\n",
       " 'filhos': ['joao', 'maria'],\n",
       " 'cidade': 'sao paulo',\n",
       " 'variavel aleatoria': {'a': 1, 'b': 2}}"
      ]
     },
     "execution_count": 7,
     "metadata": {},
     "output_type": "execute_result"
    }
   ],
   "source": [
    "dicionario"
   ]
  },
  {
   "cell_type": "code",
   "execution_count": 8,
   "id": "205915f4-72d7-4e8f-a407-f2f5d06faf73",
   "metadata": {},
   "outputs": [
    {
     "data": {
      "text/plain": [
       "dict_keys(['nome', 'idade', 'filhos', 'cidade', 'variavel aleatoria'])"
      ]
     },
     "execution_count": 8,
     "metadata": {},
     "output_type": "execute_result"
    }
   ],
   "source": [
    "dicionario.keys()"
   ]
  },
  {
   "cell_type": "code",
   "execution_count": 9,
   "id": "725d47e2-55c5-4e7c-9e06-7d5b7958d6c1",
   "metadata": {},
   "outputs": [
    {
     "data": {
      "text/plain": [
       "dict_values(['paulo', 31, ['joao', 'maria'], 'sao paulo', {'a': 1, 'b': 2}])"
      ]
     },
     "execution_count": 9,
     "metadata": {},
     "output_type": "execute_result"
    }
   ],
   "source": [
    "dicionario.values()"
   ]
  },
  {
   "cell_type": "code",
   "execution_count": 10,
   "id": "4623059c-5644-44c6-9022-11986baf56d8",
   "metadata": {},
   "outputs": [
    {
     "data": {
      "text/plain": [
       "dict_items([('nome', 'paulo'), ('idade', 31), ('filhos', ['joao', 'maria']), ('cidade', 'sao paulo'), ('variavel aleatoria', {'a': 1, 'b': 2})])"
      ]
     },
     "execution_count": 10,
     "metadata": {},
     "output_type": "execute_result"
    }
   ],
   "source": [
    "dicionario.items()"
   ]
  },
  {
   "cell_type": "code",
   "execution_count": null,
   "id": "4446c504-e82a-4d1a-a0e3-a10aea10cb87",
   "metadata": {},
   "outputs": [],
   "source": []
  }
 ],
 "metadata": {
  "kernelspec": {
   "display_name": "Python 3 (ipykernel)",
   "language": "python",
   "name": "python3"
  },
  "language_info": {
   "codemirror_mode": {
    "name": "ipython",
    "version": 3
   },
   "file_extension": ".py",
   "mimetype": "text/x-python",
   "name": "python",
   "nbconvert_exporter": "python",
   "pygments_lexer": "ipython3",
   "version": "3.12.6"
  }
 },
 "nbformat": 4,
 "nbformat_minor": 5
}
