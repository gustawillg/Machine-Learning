{
 "cells": [
  {
   "cell_type": "markdown",
   "id": "8f1b2145-9ca3-4ca4-9977-9dc31711953d",
   "metadata": {},
   "source": [
    "Logging"
   ]
  },
  {
   "cell_type": "code",
   "execution_count": 1,
   "id": "702918f5-c0c6-4ef4-abe9-f351c2548198",
   "metadata": {},
   "outputs": [],
   "source": [
    "import logging"
   ]
  },
  {
   "cell_type": "code",
   "execution_count": 2,
   "id": "b7f1cabe-301c-4c46-b8cd-1eb745dfb98e",
   "metadata": {},
   "outputs": [],
   "source": [
    "LOG_FORMAT = \"%(levelname)s - %(asctime)s - %(message)s\""
   ]
  },
  {
   "cell_type": "code",
   "execution_count": 3,
   "id": "92b5be7c-e6a4-4578-bec2-ff00edbd2e87",
   "metadata": {},
   "outputs": [],
   "source": [
    "logging.basicConfig(filename=\"app.log\", level=logging.DEBUG, filemode=\"w\", format=LOG_FORMAT)"
   ]
  },
  {
   "cell_type": "code",
   "execution_count": 4,
   "id": "dd0a9b5d-f3f0-40a9-ab89-08ffc3f061e7",
   "metadata": {},
   "outputs": [],
   "source": [
    "log = logging.getLogger()"
   ]
  },
  {
   "cell_type": "code",
   "execution_count": 5,
   "id": "41d80d54-35c7-46c7-b5d4-90bf53d985c2",
   "metadata": {},
   "outputs": [],
   "source": [
    "log.info(\"teste\")\n",
    "log.critical(\"grave\")\n",
    "log.error(\"aaa\")\n",
    "log.debug(\"grave\")\n",
    "log.warning(\"grave\")"
   ]
  },
  {
   "cell_type": "code",
   "execution_count": null,
   "id": "b06a0514-ef20-450f-81ec-180f25d4532b",
   "metadata": {},
   "outputs": [],
   "source": [
    "log.level"
   ]
  }
 ],
 "metadata": {
  "kernelspec": {
   "display_name": "Python 3 (ipykernel)",
   "language": "python",
   "name": "python3"
  },
  "language_info": {
   "codemirror_mode": {
    "name": "ipython",
    "version": 3
   },
   "file_extension": ".py",
   "mimetype": "text/x-python",
   "name": "python",
   "nbconvert_exporter": "python",
   "pygments_lexer": "ipython3",
   "version": "3.12.6"
  }
 },
 "nbformat": 4,
 "nbformat_minor": 5
}
