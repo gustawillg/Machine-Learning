{
 "cells": [
  {
   "cell_type": "markdown",
   "metadata": {},
   "source": [
    "If, elif e else"
   ]
  },
  {
   "cell_type": "code",
   "execution_count": 1,
   "metadata": {},
   "outputs": [
    {
     "name": "stdout",
     "output_type": "stream",
     "text": [
      "quente\n"
     ]
    }
   ],
   "source": [
    "temp = 31\n",
    "\n",
    "if temp > 30:\n",
    "    print(\"quente\")"
   ]
  },
  {
   "cell_type": "code",
   "execution_count": 7,
   "metadata": {},
   "outputs": [
    {
     "name": "stdout",
     "output_type": "stream",
     "text": [
      "frio\n",
      "congelado\n",
      "frio\n"
     ]
    }
   ],
   "source": [
    "temp = -51\n",
    "\n",
    "if temp >= 30:\n",
    "    print(\"quente\")\n",
    "\n",
    "elif temp < 0:\n",
    "    print(\"frio\")\n",
    "\n",
    "    if temp < -50:\n",
    "        print(\"congelado\")\n",
    "    print(\"frio\")\n",
    "\n",
    "else: \n",
    "    print(\"temperatura agradavel\")"
   ]
  },
  {
   "cell_type": "code",
   "execution_count": null,
   "metadata": {},
   "outputs": [],
   "source": []
  }
 ],
 "metadata": {
  "kernelspec": {
   "display_name": "Python 3 (ipykernel)",
   "language": "python",
   "name": "python3"
  }
 },
 "nbformat": 4,
 "nbformat_minor": 2
}
